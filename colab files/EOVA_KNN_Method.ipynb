{
  "cells": [
    {
      "cell_type": "markdown",
      "metadata": {
        "id": "hKYr-eIl1zmM"
      },
      "source": [
        "### Import Library"
      ]
    },
    {
      "cell_type": "code",
      "execution_count": null,
      "metadata": {
        "id": "fe1Uxr4e-V3B"
      },
      "outputs": [],
      "source": [
        "import pandas as pd\n",
        "import numpy as np\n",
        "import matplotlib.pyplot as plt\n",
        "\n",
        "from sklearn.neighbors._classification import KNeighborsClassifier\n",
        "\n",
        "from sklearn.metrics import accuracy_score\n",
        "from sklearn.model_selection import train_test_split\n",
        "from sklearn.metrics import confusion_matrix\n",
        "\n",
        "from sklearn.preprocessing import StandardScaler"
      ]
    },
    {
      "cell_type": "markdown",
      "metadata": {
        "id": "wZiDxJSn2Dkz"
      },
      "source": [
        "### Import Dataset Kanker"
      ]
    },
    {
      "cell_type": "code",
      "execution_count": null,
      "metadata": {
        "id": "sEH_neesGI56"
      },
      "outputs": [],
      "source": [
        "data = pd.read_csv('dataset.csv')\n",
        "data.sample(10)\n",
        "data.shape"
      ]
    },
    {
      "cell_type": "markdown",
      "metadata": {
        "id": "60ADdfqdG_WV"
      },
      "source": [
        "### **Scaling**"
      ]
    },
    {
      "cell_type": "code",
      "execution_count": null,
      "metadata": {
        "id": "769x1l7yHGm2"
      },
      "outputs": [],
      "source": [
        "data.describe()"
      ]
    },
    {
      "cell_type": "code",
      "execution_count": null,
      "metadata": {
        "id": "Wiepg6AeHbQ9"
      },
      "outputs": [],
      "source": [
        "scaling = StandardScaler()\n",
        "\n",
        "for col in [\"PERUT TERASA MEMBESAR\", \"PERUT KEMBUNG\", \"NYERI PERUT\", \"MUAL/ MUNTAH\", \"NAFSU MAKAN MENURUN\", \"CEPAT KENYANG\", \"GANGGUAN BAK\", \"GANGGUAN BAB\", \"GANGGUAN MENSTRUASI\", \"PENURUNAN BB\"]:\n",
        "  data[col] = scaling.fit_transform(data[col].values.reshape(-1,1))\n",
        "data.head()\n",
        "data.sample(10)"
      ]
    },
    {
      "cell_type": "markdown",
      "metadata": {
        "id": "qJEVQ6cyIVX1"
      },
      "source": [
        "### **Split Data**"
      ]
    },
    {
      "cell_type": "code",
      "execution_count": null,
      "metadata": {
        "id": "rIRhgTVcIYB9"
      },
      "outputs": [],
      "source": [
        "X = data.iloc[:,:-1]\n",
        "y = data.iloc[:,-1]"
      ]
    },
    {
      "cell_type": "code",
      "execution_count": null,
      "metadata": {
        "id": "usB7PG_0IsEr"
      },
      "outputs": [],
      "source": [
        "X_train,X_test, y_train,y_test = train_test_split(X,y,test_size=0.3, random_state=0)"
      ]
    },
    {
      "cell_type": "code",
      "execution_count": null,
      "metadata": {
        "id": "Nj9pt69YJk7n"
      },
      "outputs": [],
      "source": [
        "X_test.shape"
      ]
    },
    {
      "cell_type": "markdown",
      "metadata": {
        "id": "yHMk0B-WZk3e"
      },
      "source": [
        "### KNN"
      ]
    },
    {
      "cell_type": "markdown",
      "metadata": {
        "id": "aE4igys6ZpCh"
      },
      "source": [
        "Looping untuk mendapatkan K dengan akurasi tertinggi"
      ]
    },
    {
      "cell_type": "code",
      "execution_count": null,
      "metadata": {
        "id": "wjwce6yZKDS_"
      },
      "outputs": [],
      "source": [
        "k_range = range(1,len(X_test)+1)\n",
        "scores = {}\n",
        "scores_list = []\n",
        "for k in k_range:\n",
        "  knn = KNeighborsClassifier(n_neighbors=k)\n",
        "  knn.fit(X_train,y_train)\n",
        "  y_pred = knn.predict(X_test)\n",
        "  scores[k] = accuracy_score(y_test, y_pred)\n",
        "  scores_list.append(accuracy_score(y_test,y_pred))"
      ]
    },
    {
      "cell_type": "code",
      "execution_count": null,
      "metadata": {
        "id": "iTzVXp97Kw7t"
      },
      "outputs": [],
      "source": [
        "%matplotlib inline\n",
        "import matplotlib.pyplot as plt\n",
        "plt.plot(k_range,scores_list)\n",
        "plt.xlabel('value of K for KNN')\n",
        "plt.ylabel('testing accuracy')"
      ]
    },
    {
      "cell_type": "code",
      "execution_count": null,
      "metadata": {
        "id": "1ZhMpBufLSNn"
      },
      "outputs": [],
      "source": [
        "knn = KNeighborsClassifier(n_neighbors=7)\n",
        "knn.fit(X_train,y_train)"
      ]
    },
    {
      "cell_type": "code",
      "execution_count": null,
      "metadata": {
        "id": "rggPwVC7LvCx"
      },
      "outputs": [],
      "source": [
        "y_prediksi=knn.predict(X_test)\n",
        "\n",
        "print(\"Y asli      = \",y_test.values)\n",
        "print(\"Y_prediksi  = \",y_prediksi)"
      ]
    },
    {
      "cell_type": "code",
      "execution_count": null,
      "metadata": {
        "id": "aTOOOugIMSnm"
      },
      "outputs": [],
      "source": [
        "tn, fp, fn, tp = confusion_matrix(y_test, y_prediksi).ravel()\n",
        "tn, fp, fn, tp"
      ]
    },
    {
      "cell_type": "code",
      "execution_count": null,
      "metadata": {
        "id": "ox3a9u6qeZT5"
      },
      "outputs": [],
      "source": [
        "akurasi = (tp + tn) / (tp + fp + tn + fn)\n",
        "er = (fp + fn) / (tp + fp + tn + fn)\n",
        "recall = tp / (tp + fn)\n",
        "specificity = tn / (fp + tn)\n",
        "precision = tp / (tp + fp)\n",
        "fscore = (2 * precision * recall) / (precision + recall)\n",
        "print(\"Akurasi = \", round(akurasi,3))\n",
        "print(\"Error Rate = \", round(er,3))\n",
        "print(\"Recall = \", round(recall,3))\n",
        "print(\"Specificity = \", round(specificity,3))\n",
        "print(\"Precision = \", round(precision,3))\n",
        "print(\"F-Score = \", round(fscore,3))"
      ]
    }
  ],
  "metadata": {
    "colab": {
      "provenance": []
    },
    "kernelspec": {
      "display_name": "Python 3",
      "name": "python3"
    },
    "language_info": {
      "name": "python"
    }
  },
  "nbformat": 4,
  "nbformat_minor": 0
}