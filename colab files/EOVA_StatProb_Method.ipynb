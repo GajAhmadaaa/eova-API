{
  "nbformat": 4,
  "nbformat_minor": 0,
  "metadata": {
    "colab": {
      "provenance": []
    },
    "kernelspec": {
      "name": "python3",
      "display_name": "Python 3"
    },
    "language_info": {
      "name": "python"
    }
  },
  "cells": [
    {
      "cell_type": "code",
      "source": [
        "import pandas as pd\n",
        "import math\n",
        "from sklearn.metrics import accuracy_score\n",
        "\n",
        "# Read dataset\n",
        "df = pd.read_csv(\"dataset.csv\")"
      ],
      "metadata": {
        "id": "1UpwRhEHO_Wq"
      },
      "execution_count": null,
      "outputs": []
    },
    {
      "cell_type": "code",
      "source": [
        "# Extract train and label data\n",
        "train = df.iloc[:,:-1] # needed for mean\n",
        "label = df.iloc[:,-1] # assuming the last column are label"
      ],
      "metadata": {
        "id": "kNQ56F5SPFdp"
      },
      "execution_count": null,
      "outputs": []
    },
    {
      "cell_type": "code",
      "source": [
        "# Filter the rows where the label is 2 or 3\n",
        "df_label_2 = df[label == 2].iloc[:,0:-1]\n",
        "df_label_3 = df[label == 3].iloc[:,0:-1]\n",
        "df_label_3_trains = df[label == 3].iloc[:,-1]"
      ],
      "metadata": {
        "id": "sFthv0GMPJzz"
      },
      "execution_count": null,
      "outputs": []
    },
    {
      "cell_type": "code",
      "source": [
        "# Calculate total ganas tot from df_label_3\n",
        "ganas_dari_tot_pilihan = []\n",
        "for i in range(train.shape[1]):\n",
        "  ganas_dari_tot_pilihan.append(df_label_3.sum()[i]/df.shape[0])\n",
        "\n",
        "total_ganas_tot = sum(ganas_dari_tot_pilihan)\n",
        "\n",
        "print(\"\\nganas dari tot pilihan:\\n\",ganas_dari_tot_pilihan)\n",
        "print(\"total ganas tot dari pilihan: \", total_ganas_tot)"
      ],
      "metadata": {
        "id": "-w27RBEZPOGo"
      },
      "execution_count": null,
      "outputs": []
    },
    {
      "cell_type": "code",
      "source": [
        "# Normalize from ganas_dari_tot_pilihan\n",
        "weights = []\n",
        "for i in range(train.shape[1]):\n",
        "  weights.append(ganas_dari_tot_pilihan[i]/total_ganas_tot)\n",
        "\n",
        "# Calculate total of weights\n",
        "total_weights = math.ceil(sum(weights))\n",
        "\n",
        "print(\"\\nnormalisasi:\\n\", weights)\n",
        "print(\"total normalisasi: \", total_weights)"
      ],
      "metadata": {
        "id": "cd-iDs0bPRYq"
      },
      "execution_count": null,
      "outputs": []
    },
    {
      "cell_type": "code",
      "source": [
        "# Calculate treshold 1\n",
        "treshold1 = pd.DataFrame()\n",
        "\n",
        "for i, j in zip(range(train.shape[1]), weights):\n",
        "    column_name = df_label_2.columns[i]\n",
        "    column_values = df_label_2.iloc[:,i].replace(1, j)\n",
        "    treshold1[column_name] = column_values\n",
        "treshold1_max = treshold1.iloc[:, 1:].sum(axis=1).max()\n",
        "\n",
        "# Calculate treshold 2\n",
        "treshold2 = 2/df_label_3.iloc[:, 1:].sum().max()\n",
        "\n",
        "print(\"\\ntreshold 1: \", treshold1_max)\n",
        "print(\"treshold 2: \", treshold2)"
      ],
      "metadata": {
        "id": "fSbFwDOCPWKX"
      },
      "execution_count": null,
      "outputs": []
    },
    {
      "cell_type": "code",
      "source": [
        "test_data = pd.DataFrame()\n",
        "for i, j in zip(range(train.shape[1]), weights):\n",
        "    column_name = df_label_3.columns[i]\n",
        "    column_values = df_label_3.iloc[:,i].replace(1, j)\n",
        "    test_data[column_name] = column_values\n",
        "\n",
        "test_data"
      ],
      "metadata": {
        "id": "R-gGUjn0WpMv"
      },
      "execution_count": null,
      "outputs": []
    },
    {
      "cell_type": "code",
      "source": [
        "test_data2 = test_data.sum(axis=1)\n",
        "\n",
        "test_data2"
      ],
      "metadata": {
        "id": "ohzb_KnLWzYL"
      },
      "execution_count": null,
      "outputs": []
    },
    {
      "cell_type": "code",
      "execution_count": null,
      "metadata": {
        "id": "eFb1fVg7O8Gk"
      },
      "outputs": [],
      "source": [
        "# Initialize an empty list to store the labels\n",
        "labels = []\n",
        "\n",
        "# Iterate through each element of train_data2\n",
        "for value in test_data2:\n",
        "    if value - treshold2 > 0:\n",
        "        labels.append(3)\n",
        "    else:\n",
        "        labels.append(2)\n",
        "\n",
        "# Create a new column in train_data with the labels\n",
        "test_data[\"label_predict\"] = labels\n",
        "test_data[\"label_asli\"] = df_label_3_trains\n",
        "\n",
        "# Evaluate the accuracy\n",
        "accuracy = accuracy_score(df_label_3_trains, labels)\n",
        "\n",
        "print(\"Akurasi: \", accuracy)"
      ]
    },
    {
      "cell_type": "code",
      "source": [
        "def predict(data):\n",
        "    #treshold1_max, treshold2, weights = calculate_thresholds(\"dataset.csv\")\n",
        "    data_weights = [w * d for w, d in zip(weights, data)]\n",
        "\n",
        "    # Predicting\n",
        "    if sum(data_weights) - treshold1_max > 0:\n",
        "      if data[0] == 1:\n",
        "        return int(3), data_weights[0], sum(data_weights[1:])\n",
        "      else:\n",
        "        return int(3), sum(data_weights)\n",
        "    else:\n",
        "        return int(2), sum(data_weights)"
      ],
      "metadata": {
        "id": "9X1X0lSxIdXr"
      },
      "execution_count": null,
      "outputs": []
    },
    {
      "cell_type": "code",
      "source": [
        "data = [1,1,1,0,0,0,0,0,0,0,0]"
      ],
      "metadata": {
        "id": "tG-UFPViJtzq"
      },
      "execution_count": null,
      "outputs": []
    },
    {
      "cell_type": "code",
      "source": [
        "predict(data)"
      ],
      "metadata": {
        "id": "8Bu3mxWiIji0"
      },
      "execution_count": null,
      "outputs": []
    },
    {
      "cell_type": "code",
      "source": [
        "type(data[0])"
      ],
      "metadata": {
        "id": "W1k5mA5BIlfw"
      },
      "execution_count": null,
      "outputs": []
    },
    {
      "cell_type": "code",
      "source": [
        "treshold1_max"
      ],
      "metadata": {
        "id": "l1hCFh_1MoxE"
      },
      "execution_count": null,
      "outputs": []
    }
  ]
}